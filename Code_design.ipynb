{
 "cells": [
  {
   "cell_type": "markdown",
   "metadata": {},
   "source": [
    "# DESIGN PROJECT"
   ]
  },
  {
   "cell_type": "markdown",
   "metadata": {},
   "source": [
    "## Mise au point d’un système de caméra stéréoscopique pour l’estimation du débit des rivières"
   ]
  },
  {
   "cell_type": "code",
   "execution_count": 2,
   "metadata": {},
   "outputs": [
    {
     "ename": "TypeError",
     "evalue": "'module' object is not callable",
     "output_type": "error",
     "traceback": [
      "\u001b[0;31m---------------------------------------------------------------------------\u001b[0m",
      "\u001b[0;31mTypeError\u001b[0m                                 Traceback (most recent call last)",
      "Cell \u001b[0;32mIn[2], line 10\u001b[0m\n\u001b[1;32m      8\u001b[0m cap1 \u001b[38;5;241m=\u001b[39m cv2\u001b[38;5;241m.\u001b[39mVideoCapture(\u001b[38;5;124m\"\u001b[39m\u001b[38;5;124m/Users/nilsmanni/Desktop/MA2/design_project/vid1_sx.MP4\u001b[39m\u001b[38;5;124m\"\u001b[39m)\n\u001b[1;32m      9\u001b[0m fps \u001b[38;5;241m=\u001b[39m cap0\u001b[38;5;241m.\u001b[39mget(cv2\u001b[38;5;241m.\u001b[39mCAP_PROP_FPS)\n\u001b[0;32m---> 10\u001b[0m mtx, newcameramtx, dist, w, h \u001b[38;5;241m=\u001b[39m \u001b[43mcamera_matrix\u001b[49m\u001b[43m(\u001b[49m\u001b[43m)\u001b[49m\n\u001b[1;32m     11\u001b[0m \u001b[38;5;28;01mwhile\u001b[39;00m cap0\u001b[38;5;241m.\u001b[39misOpened():\n\u001b[1;32m     12\u001b[0m     \u001b[38;5;66;03m# Capture frame-by-frame\u001b[39;00m\n\u001b[1;32m     13\u001b[0m     ret0, frame0 \u001b[38;5;241m=\u001b[39m cap0\u001b[38;5;241m.\u001b[39mread()\n",
      "\u001b[0;31mTypeError\u001b[0m: 'module' object is not callable"
     ]
    }
   ],
   "source": [
    "import numpy as np\n",
    "import cv2\n",
    "import datetime\n",
    "import camera_matrix\n",
    "\n",
    "#<add code to run ffmpeg command via ssh>\n",
    "cap0 = cv2.VideoCapture(\"/Users/nilsmanni/Desktop/MA2/design_project/vid1_dx.MP4\")\n",
    "cap1 = cv2.VideoCapture(\"/Users/nilsmanni/Desktop/MA2/design_project/vid1_sx.MP4\")\n",
    "fps = cap0.get(cv2.CAP_PROP_FPS)\n",
    "mtx, newcameramtx, dist, w, h = camera_matrix()\n",
    "while cap0.isOpened():\n",
    "    # Capture frame-by-frame\n",
    "    ret0, frame0 = cap0.read()\n",
    "    bw0= cv2.cvtColor(frame0, cv2.COLOR_BGR2GRAY)\n",
    "    mapx, mapy = cv2.initUndistortRectifyMap(mtx, dist, None, newcameramtx, (w,h), 5)\n",
    "    dst0= cv2.remap(bw0, mapx, mapy, cv2.INTER_LINEAR)\n",
    "    if ret0== True :\n",
    "        cv2.imshow('video', dst0)\n",
    "        #img.convert('L')\n",
    "        if cv2.waitKey(int(1000/fps)) == ord(\"q\"):\n",
    "            break\n",
    "    else:\n",
    "        break\n",
    "cap0.release()\n",
    "\n",
    "cv2.destroyAllWindows()\n",
    "# import useful packages\n",
    "\n",
    "import pandas as pd\n",
    "import numpy as np\n",
    "import matplotlib.pyplot as plt\n",
    "from PIL import Image"
   ]
  },
  {
   "cell_type": "code",
   "execution_count": 9,
   "metadata": {},
   "outputs": [
    {
     "ename": "AttributeError",
     "evalue": "'NoneType' object has no attribute 'type'",
     "output_type": "error",
     "traceback": [
      "\u001b[0;31m---------------------------------------------------------------------------\u001b[0m",
      "\u001b[0;31mAttributeError\u001b[0m                            Traceback (most recent call last)",
      "Cell \u001b[0;32mIn[9], line 1\u001b[0m\n\u001b[0;32m----> 1\u001b[0m \u001b[43mframe0\u001b[49m\u001b[38;5;241;43m.\u001b[39;49m\u001b[43mtype\u001b[49m()\n",
      "\u001b[0;31mAttributeError\u001b[0m: 'NoneType' object has no attribute 'type'"
     ]
    }
   ],
   "source": [
    "frame0.type()"
   ]
  },
  {
   "cell_type": "code",
   "execution_count": null,
   "metadata": {},
   "outputs": [],
   "source": []
  }
 ],
 "metadata": {
  "kernelspec": {
   "display_name": "base",
   "language": "python",
   "name": "python3"
  },
  "language_info": {
   "codemirror_mode": {
    "name": "ipython",
    "version": 3
   },
   "file_extension": ".py",
   "mimetype": "text/x-python",
   "name": "python",
   "nbconvert_exporter": "python",
   "pygments_lexer": "ipython3",
   "version": "3.11.7"
  }
 },
 "nbformat": 4,
 "nbformat_minor": 2
}
