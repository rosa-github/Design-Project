{
 "cells": [
  {
   "cell_type": "markdown",
   "metadata": {},
   "source": [
    "# DESIGN PROJECT"
   ]
  },
  {
   "cell_type": "markdown",
   "metadata": {},
   "source": [
    "## Mise au point d’un système de caméra stéréoscopique pour l’estimation du débit des rivières"
   ]
  },
  {
   "cell_type": "code",
   "execution_count": 1,
   "metadata": {},
   "outputs": [
    {
     "ename": "error",
     "evalue": "OpenCV(4.9.0) /Users/xperience/GHA-OpenCV-Python2/_work/opencv-python/opencv-python/opencv/modules/imgproc/src/color.cpp:196: error: (-215:Assertion failed) !_src.empty() in function 'cvtColor'\n",
     "output_type": "error",
     "traceback": [
      "\u001b[0;31m---------------------------------------------------------------------------\u001b[0m",
      "\u001b[0;31merror\u001b[0m                                     Traceback (most recent call last)",
      "Cell \u001b[0;32mIn[1], line 14\u001b[0m\n\u001b[1;32m     11\u001b[0m \u001b[38;5;28;01mwhile\u001b[39;00m cap1\u001b[38;5;241m.\u001b[39misOpened():\n\u001b[1;32m     12\u001b[0m     \u001b[38;5;66;03m# Capture frame-by-frame\u001b[39;00m\n\u001b[1;32m     13\u001b[0m     ret0, frame0 \u001b[38;5;241m=\u001b[39m cap1\u001b[38;5;241m.\u001b[39mread()\n\u001b[0;32m---> 14\u001b[0m     bw0\u001b[38;5;241m=\u001b[39m \u001b[43mcv2\u001b[49m\u001b[38;5;241;43m.\u001b[39;49m\u001b[43mcvtColor\u001b[49m\u001b[43m(\u001b[49m\u001b[43mframe0\u001b[49m\u001b[43m,\u001b[49m\u001b[43m \u001b[49m\u001b[43mcv2\u001b[49m\u001b[38;5;241;43m.\u001b[39;49m\u001b[43mCOLOR_BGR2GRAY\u001b[49m\u001b[43m)\u001b[49m\n\u001b[1;32m     15\u001b[0m     mapx, mapy \u001b[38;5;241m=\u001b[39m cv2\u001b[38;5;241m.\u001b[39minitUndistortRectifyMap(mtx, dist, \u001b[38;5;28;01mNone\u001b[39;00m, newcameramtx, (w,h), \u001b[38;5;241m5\u001b[39m)\n\u001b[1;32m     16\u001b[0m     dst0\u001b[38;5;241m=\u001b[39m cv2\u001b[38;5;241m.\u001b[39mremap(bw0, mapx, mapy, cv2\u001b[38;5;241m.\u001b[39mINTER_LINEAR)\n",
      "\u001b[0;31merror\u001b[0m: OpenCV(4.9.0) /Users/xperience/GHA-OpenCV-Python2/_work/opencv-python/opencv-python/opencv/modules/imgproc/src/color.cpp:196: error: (-215:Assertion failed) !_src.empty() in function 'cvtColor'\n"
     ]
    }
   ],
   "source": [
    "import numpy as np\n",
    "import cv2\n",
    "import datetime\n",
    "from camera_matrix import camera_matrix\n",
    "\n",
    "#<add code to run ffmpeg command via ssh>\n",
    "cap0 = cv2.VideoCapture(\"/Users/nilsmanni/Desktop/MA2/design_project/vid1_dx.MP4\")\n",
    "cap1 = cv2.VideoCapture(\"/Users/nilsmanni/Desktop/MA2/design_project/vid1_sx.MP4\")\n",
    "fps = cap1.get(cv2.CAP_PROP_FPS)\n",
    "mtx, newcameramtx, dist, w, h = camera_matrix()\n",
    "while cap0.isOpened():\n",
    "    # Capture frame-by-frame\n",
    "    ret0, frame0 = cap0.read()\n",
    "    bw0= cv2.cvtColor(frame0, cv2.COLOR_BGR2GRAY)\n",
    "    mapx, mapy = cv2.initUndistortRectifyMap(mtx, dist, None, newcameramtx, (w,h), 5)\n",
    "    dst0= cv2.remap(bw0, mapx, mapy, cv2.INTER_LINEAR)\n",
    "    if ret0== True :\n",
    "        cv2.imshow('video', dst0)\n",
    "        if cv2.waitKey(int(1000/fps)) == ord(\"q\"):\n",
    "            break\n",
    "    else:\n",
    "        break\n",
    "cap0.release()\n",
    "\n",
    "cv2.destroyAllWindows()"
   ]
  },
  {
   "cell_type": "code",
   "execution_count": 9,
   "metadata": {},
   "outputs": [
    {
     "ename": "AttributeError",
     "evalue": "'NoneType' object has no attribute 'type'",
     "output_type": "error",
     "traceback": [
      "\u001b[0;31m---------------------------------------------------------------------------\u001b[0m",
      "\u001b[0;31mAttributeError\u001b[0m                            Traceback (most recent call last)",
      "Cell \u001b[0;32mIn[9], line 1\u001b[0m\n\u001b[0;32m----> 1\u001b[0m \u001b[43mframe0\u001b[49m\u001b[38;5;241;43m.\u001b[39;49m\u001b[43mtype\u001b[49m()\n",
      "\u001b[0;31mAttributeError\u001b[0m: 'NoneType' object has no attribute 'type'"
     ]
    }
   ],
   "source": [
    "frame0.type()"
   ]
  },
  {
   "cell_type": "code",
   "execution_count": null,
   "metadata": {},
   "outputs": [],
   "source": []
  }
 ],
 "metadata": {
  "kernelspec": {
   "display_name": "base",
   "language": "python",
   "name": "python3"
  },
  "language_info": {
   "codemirror_mode": {
    "name": "ipython",
    "version": 3
   },
   "file_extension": ".py",
   "mimetype": "text/x-python",
   "name": "python",
   "nbconvert_exporter": "python",
   "pygments_lexer": "ipython3",
   "version": "3.11.7"
  }
 },
 "nbformat": 4,
 "nbformat_minor": 2
}
