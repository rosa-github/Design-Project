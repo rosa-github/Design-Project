{
 "cells": [
  {
   "cell_type": "code",
   "execution_count": 1,
   "metadata": {},
   "outputs": [],
   "source": [
    "import numpy as np\n",
    "import cv2\n",
    "import datetime\n",
    "#<add code to run ffmpeg command via ssh>\n",
    "cap0 = cv2.VideoCapture(\"28_01_24_Arve_D.MP4\")\n",
    "cap1 = cv2.VideoCapture(\"28_01_24_Arve_G.MP4\")\n",
    "fps = cap0.get(cv2.CAP_PROP_FPS)\n",
    "while cap0.isOpened() and cap1.isOpened():\n",
    "    # Capture frame-by-frame\n",
    "    ret0, frame0 = cap0.read()\n",
    "    ret1, frame1 = cap1.read()\n",
    "    if ret0== True and ret1 == True:\n",
    "        cv2.imshow('video', frame0)\n",
    "        cv2.imshow('video', frame1)\n",
    "        if cv2.waitKey(int(1000/fps)) == ord(\"q\"):\n",
    "            break\n",
    "    else:\n",
    "        break\n",
    "cap0.release()\n",
    "cap1.release()\n",
    "\n",
    "cv2.destroyAllWindows()"
   ]
  },
  {
   "cell_type": "code",
   "execution_count": null,
   "metadata": {},
   "outputs": [],
   "source": []
  }
 ],
 "metadata": {
  "kernelspec": {
   "display_name": "base",
   "language": "python",
   "name": "python3"
  },
  "language_info": {
   "codemirror_mode": {
    "name": "ipython",
    "version": 3
   },
   "file_extension": ".py",
   "mimetype": "text/x-python",
   "name": "python",
   "nbconvert_exporter": "python",
   "pygments_lexer": "ipython3",
   "version": "3.11.7"
  }
 },
 "nbformat": 4,
 "nbformat_minor": 2
}
