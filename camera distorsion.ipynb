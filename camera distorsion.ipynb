{
 "cells": [
  {
   "cell_type": "code",
   "execution_count": 9,
   "metadata": {},
   "outputs": [],
   "source": [
    "#!/usr/bin/env python\n",
    "import cv2\n",
    "import numpy as np\n",
    "import os\n",
    "import glob"
   ]
  },
  {
   "cell_type": "code",
   "execution_count": 10,
   "metadata": {},
   "outputs": [],
   "source": [
    "# Defining the dimensions of checkerboard\n",
    "CHECKERBOARD = (6,9)\n",
    "criteria = (cv2.TERM_CRITERIA_EPS + cv2.TERM_CRITERIA_MAX_ITER, 30, 0.001)\n",
    " \n",
    "# Creating vector to store vectors of 3D points for each checkerboard image\n",
    "objpoints = []\n",
    "# Creating vector to store vectors of 2D points for each checkerboard image\n",
    "imgpoints = [] "
   ]
  },
  {
   "cell_type": "code",
   "execution_count": 11,
   "metadata": {},
   "outputs": [],
   "source": [
    "# Defining the world coordinates for 3D points\n",
    "objp = np.zeros((1, CHECKERBOARD[0] * CHECKERBOARD[1], 3), np.float32)\n",
    "objp[0,:,:2] = np.mgrid[0:CHECKERBOARD[0], 0:CHECKERBOARD[1]].T.reshape(-1, 2)\n",
    "prev_img_shape = None\n",
    " \n"
   ]
  },
  {
   "cell_type": "code",
   "execution_count": 12,
   "metadata": {},
   "outputs": [
    {
     "name": "stdout",
     "output_type": "stream",
     "text": [
      "Camera matrix : \n",
      "\n",
      "[[3.52546709e+03 0.00000000e+00 2.80962549e+03]\n",
      " [0.00000000e+00 3.53751668e+03 2.22828710e+03]\n",
      " [0.00000000e+00 0.00000000e+00 1.00000000e+00]]\n",
      "dist : \n",
      "\n",
      "[[-0.07186645  0.11189368  0.00865094 -0.00050088 -0.10195969]]\n",
      "rvecs : \n",
      "\n",
      "(array([[-0.10472679],\n",
      "       [-0.18744582],\n",
      "       [ 1.55103168]]), array([[-0.33213939],\n",
      "       [-0.48316699],\n",
      "       [ 1.46859414]]), array([[-0.27580829],\n",
      "       [-0.22635335],\n",
      "       [ 1.5734566 ]]), array([[-0.30488867],\n",
      "       [-0.07598816],\n",
      "       [ 1.56177745]]), array([[-0.6478806 ],\n",
      "       [ 0.03605223],\n",
      "       [ 1.59263517]]), array([[0.20478504],\n",
      "       [0.71822747],\n",
      "       [1.40179955]]), array([[-0.0638072 ],\n",
      "       [ 0.1203264 ],\n",
      "       [ 1.58522092]]), array([[-0.76514674],\n",
      "       [-0.74288602],\n",
      "       [ 1.30762154]]), array([[-0.60899213],\n",
      "       [-0.838129  ],\n",
      "       [ 1.43253258]]), array([[-0.10954341],\n",
      "       [-0.11448298],\n",
      "       [ 1.45653388]]), array([[0.80695637],\n",
      "       [0.50958524],\n",
      "       [1.37762722]]), array([[0.18501439],\n",
      "       [0.57523773],\n",
      "       [1.52328567]]), array([[-0.52406045],\n",
      "       [ 0.38229503],\n",
      "       [ 1.38806158]]), array([[-0.46390009],\n",
      "       [-0.53017136],\n",
      "       [ 1.54251897]]), array([[-0.76708687],\n",
      "       [-0.05677999],\n",
      "       [ 1.54889579]]), array([[-0.39275516],\n",
      "       [ 0.25999231],\n",
      "       [ 1.51218346]]), array([[-0.22501777],\n",
      "       [-0.02578583],\n",
      "       [ 1.52217398]]), array([[-0.14502017],\n",
      "       [ 0.0583328 ],\n",
      "       [ 1.53888825]]), array([[-0.30895832],\n",
      "       [ 0.01442623],\n",
      "       [ 1.53860618]]), array([[ 0.20861611],\n",
      "       [-0.16763752],\n",
      "       [ 1.34972343]]), array([[0.05938082],\n",
      "       [0.80211614],\n",
      "       [1.57201547]]))\n",
      "tvecs : \n",
      "\n",
      "(array([[ 10.97119305],\n",
      "       [-12.88911575],\n",
      "       [ 79.94309267]]), array([[ 22.60310421],\n",
      "       [-16.99091381],\n",
      "       [ 62.63398288]]), array([[  6.34218978],\n",
      "       [-19.63146526],\n",
      "       [ 61.39964675]]), array([[ 8.20298903],\n",
      "       [12.72654788],\n",
      "       [91.70693948]]), array([[-2.56697446e-02],\n",
      "       [-1.01716284e+01],\n",
      "       [ 5.98609412e+01]]), array([[-2.56173495],\n",
      "       [-1.68199783],\n",
      "       [64.6626783 ]]), array([[ 6.46989685],\n",
      "       [-2.31979327],\n",
      "       [37.03235956]]), array([[ 1.08478787],\n",
      "       [-1.69520158],\n",
      "       [32.26173072]]), array([[-15.35856631],\n",
      "       [-18.49273455],\n",
      "       [ 51.46728867]]), array([[  6.89718327],\n",
      "       [-21.39547643],\n",
      "       [ 44.20618494]]), array([[ 23.36361721],\n",
      "       [-15.99289937],\n",
      "       [ 43.98390609]]), array([[14.71693453],\n",
      "       [-0.13956129],\n",
      "       [34.5631847 ]]), array([[-18.21081239],\n",
      "       [  0.88497379],\n",
      "       [ 53.71995802]]), array([[ -4.24563387],\n",
      "       [-22.07116102],\n",
      "       [ 48.70802166]]), array([[ 4.51886955],\n",
      "       [17.49462144],\n",
      "       [63.31101613]]), array([[31.88855551],\n",
      "       [11.12798383],\n",
      "       [57.52849663]]), array([[ 12.28433578],\n",
      "       [-12.706934  ],\n",
      "       [ 71.23435542]]), array([[ 3.68855821],\n",
      "       [-3.7281548 ],\n",
      "       [14.01695391]]), array([[ 6.94936406],\n",
      "       [-7.58015555],\n",
      "       [17.06239439]]), array([[-0.1870181 ],\n",
      "       [-5.29254944],\n",
      "       [13.93663626]]), array([[ 1.88702724],\n",
      "       [-5.64072069],\n",
      "       [15.92078525]]))\n"
     ]
    }
   ],
   "source": [
    "# Extracting path of individual image stored in a given directory\n",
    "images = glob.glob('C:/Users/rosas/Documents/Epfl/MA_2/Design Project/cherckerboard 2/*.JPG')\n",
    "\n",
    "for fname in images:\n",
    "    try:\n",
    "        img = cv2.imread(fname)\n",
    "        if img is None:\n",
    "            raise FileNotFoundError(\"Failed to load image: {}\".format(fname))\n",
    "\n",
    "        gray = cv2.cvtColor(img, cv2.COLOR_BGR2GRAY)\n",
    "        \n",
    "        # Find the chessboard corners\n",
    "        ret, corners = cv2.findChessboardCorners(gray, CHECKERBOARD, \n",
    "                                                 cv2.CALIB_CB_ADAPTIVE_THRESH + \n",
    "                                                 cv2.CALIB_CB_FAST_CHECK + \n",
    "                                                 cv2.CALIB_CB_NORMALIZE_IMAGE)\n",
    "        \n",
    "        if ret == True:\n",
    "            objpoints.append(objp)\n",
    "            \n",
    "            # Refine the pixel coordinates for given 2D points\n",
    "            corners2 = cv2.cornerSubPix(gray, corners, (11, 11), (-1, -1), criteria)\n",
    "            imgpoints.append(corners2)\n",
    "            \n",
    "            # Draw and display the corners\n",
    "            img = cv2.drawChessboardCorners(img, CHECKERBOARD, corners2, ret)\n",
    "\n",
    "            # Create a named window with a specific size\n",
    "            cv2.namedWindow('img', cv2.WINDOW_NORMAL)\n",
    "            cv2.resizeWindow('img', 800, 600)  # Set the window size to 800x600 pixels\n",
    "\n",
    "\n",
    "            cv2.imshow('img', img)\n",
    "            cv2.waitKey(500)  # Display the image for 0.5 seconds\n",
    "    except Exception as e:\n",
    "        print(\"Error processing image {}: {}\".format(fname, e))\n",
    "        continue\n",
    "        \n",
    "cv2.destroyAllWindows()\n",
    "\n",
    "# Calculate the image size\n",
    "h, w = img.shape[:2]\n",
    "\n",
    "\n",
    "\"\"\"\n",
    "Performing camera calibration by \n",
    "passing the value of known 3D points (objpoints)\n",
    "and corresponding pixel coordinates of the \n",
    "detected corners (imgpoints)\n",
    "\"\"\"\n",
    "ret, mtx, dist, rvecs, tvecs = cv2.calibrateCamera(objpoints, imgpoints, gray.shape[::-1], None, None)\n",
    " \n",
    "print(\"Camera matrix : \\n\")\n",
    "print(mtx)\n",
    "print(\"dist : \\n\")\n",
    "print(dist)\n",
    "print(\"rvecs : \\n\")\n",
    "print(rvecs)\n",
    "print(\"tvecs : \\n\")\n",
    "print(tvecs)"
   ]
  },
  {
   "cell_type": "code",
   "execution_count": 13,
   "metadata": {},
   "outputs": [],
   "source": [
    "img = cv2.imread('checkerboard/IMG_0292.jpg')\n",
    "h,  w = img.shape[:2]\n",
    "newcameramtx, roi = cv2.getOptimalNewCameraMatrix(mtx, dist, (w,h), 1, (w,h))"
   ]
  },
  {
   "cell_type": "code",
   "execution_count": 14,
   "metadata": {},
   "outputs": [
    {
     "data": {
      "text/plain": [
       "True"
      ]
     },
     "execution_count": 14,
     "metadata": {},
     "output_type": "execute_result"
    }
   ],
   "source": [
    "# undistort\n",
    "mapx, mapy = cv2.initUndistortRectifyMap(mtx, dist, None, newcameramtx, (w,h), 5)\n",
    "dst = cv2.remap(img, mapx, mapy, cv2.INTER_LINEAR)\n",
    " \n",
    "# crop the image\n",
    "x, y, w, h = roi\n",
    "dst = dst[y:y+h, x:x+w]\n",
    "cv2.imwrite('calibresult.png', dst)"
   ]
  },
  {
   "cell_type": "code",
   "execution_count": 15,
   "metadata": {},
   "outputs": [
    {
     "name": "stdout",
     "output_type": "stream",
     "text": [
      "(3350, 2330, 3)\n",
      "[[-0.07186645  0.11189368  0.00865094 -0.00050088 -0.10195969]]\n"
     ]
    }
   ],
   "source": [
    "print(dst.shape)\n",
    "print(dist)"
   ]
  },
  {
   "cell_type": "code",
   "execution_count": 16,
   "metadata": {},
   "outputs": [
    {
     "name": "stdout",
     "output_type": "stream",
     "text": [
      "total error: 0.2159626417832498\n"
     ]
    }
   ],
   "source": [
    "mean_error = 0\n",
    "for i in range(len(objpoints)):\n",
    "    imgpoints2, _ = cv2.projectPoints(objpoints[i], rvecs[i], tvecs[i], mtx, dist)\n",
    "    error = cv2.norm(imgpoints[i], imgpoints2, cv2.NORM_L2)/len(imgpoints2)\n",
    "    mean_error += error\n",
    " \n",
    "print( \"total error: {}\".format(mean_error/len(objpoints)) )"
   ]
  },
  {
   "cell_type": "code",
   "execution_count": null,
   "metadata": {},
   "outputs": [],
   "source": []
  },
  {
   "cell_type": "code",
   "execution_count": null,
   "metadata": {},
   "outputs": [],
   "source": []
  },
  {
   "cell_type": "code",
   "execution_count": null,
   "metadata": {},
   "outputs": [],
   "source": []
  },
  {
   "cell_type": "code",
   "execution_count": null,
   "metadata": {},
   "outputs": [],
   "source": []
  },
  {
   "cell_type": "code",
   "execution_count": null,
   "metadata": {},
   "outputs": [],
   "source": []
  }
 ],
 "metadata": {
  "kernelspec": {
   "display_name": "base",
   "language": "python",
   "name": "python3"
  },
  "language_info": {
   "codemirror_mode": {
    "name": "ipython",
    "version": 3
   },
   "file_extension": ".py",
   "mimetype": "text/x-python",
   "name": "python",
   "nbconvert_exporter": "python",
   "pygments_lexer": "ipython3",
   "version": "3.11.7"
  }
 },
 "nbformat": 4,
 "nbformat_minor": 2
}
