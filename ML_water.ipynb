{
 "cells": [
  {
   "cell_type": "code",
   "execution_count": 1,
   "metadata": {},
   "outputs": [
    {
     "ename": "ModuleNotFoundError",
     "evalue": "No module named 'numpy'",
     "output_type": "error",
     "traceback": [
      "\u001b[0;31m---------------------------------------------------------------------------\u001b[0m",
      "\u001b[0;31mModuleNotFoundError\u001b[0m                       Traceback (most recent call last)",
      "Cell \u001b[0;32mIn[1], line 2\u001b[0m\n\u001b[1;32m      1\u001b[0m \u001b[38;5;66;03m#Packages:\u001b[39;00m\n\u001b[0;32m----> 2\u001b[0m \u001b[38;5;28;01mimport\u001b[39;00m \u001b[38;5;21;01mnumpy\u001b[39;00m \u001b[38;5;28;01mas\u001b[39;00m \u001b[38;5;21;01mnp\u001b[39;00m\n\u001b[1;32m      3\u001b[0m \u001b[38;5;28;01mimport\u001b[39;00m \u001b[38;5;21;01mcv2\u001b[39;00m\n\u001b[1;32m      4\u001b[0m \u001b[38;5;28;01mimport\u001b[39;00m \u001b[38;5;21;01mpandas\u001b[39;00m \u001b[38;5;28;01mas\u001b[39;00m \u001b[38;5;21;01mpd\u001b[39;00m\n",
      "\u001b[0;31mModuleNotFoundError\u001b[0m: No module named 'numpy'"
     ]
    }
   ],
   "source": [
    "#Packages:\n",
    "import numpy as np\n",
    "import cv2\n",
    "import pandas as pd\n",
    "import matplotlib.pyplot as plt\n",
    "import datetime\n",
    "from camera_matrix import camera_matrix\n",
    "import time\n",
    "import seaborn as sns\n",
    "import matplotlib.patches as mpatches\n",
    "from skimage.segmentation import felzenszwalb"
   ]
  },
  {
   "cell_type": "code",
   "execution_count": 3,
   "metadata": {},
   "outputs": [],
   "source": [
    "# Charger la vidéo\n",
    "#cap0 = cv2.VideoCapture(\"/Users/nilsmanni/Desktop/MA2/design_project/GX010056.MP4\")\n",
    "#video_capture = cv2.VideoCapture(\"/Users/nilsmanni/Desktop/MA2/design_project/GX010031.MP4\")\n",
    "video_capture = cv2.VideoCapture(\"/Users/nilsmanni/Desktop/MA2/design_project/GX010056.MP4\")\n",
    "# Définition de la fonction NDVI\n",
    "def ndvi(image):\n",
    "    # Convertir l'image en float\n",
    "    image = image.astype(float)\n",
    "    # Calculer l'indice NDVI\n",
    "    ndvi = (image[:,:,1] - image[:,:,2]) / (image[:,:,1] + image[:,:,2] + 1e-5)\n",
    "    return ndvi\n",
    "\n",
    "# Définition de la fonction NDWI\n",
    "def ndwi(image):\n",
    "    # Convertir l'image en float\n",
    "    image = image.astype(float)\n",
    "    # Calculer l'indice NDWI\n",
    "    ndwi = (image[:,:,1] - image[:,:,0]) / (image[:,:,1] + image[:,:,0] + 1e-5)\n",
    "    return ndwi\n",
    "\n",
    "# Lire la première frame de la vidéo\n",
    "ret, first_frame = video_capture.read()\n",
    "\n",
    "# Vérifier si la première frame a été lue avec succès\n",
    "if not ret:\n",
    "    print(\"Impossible de lire la première frame de la vidéo.\")\n",
    "    exit()\n",
    "\n",
    "# Segmentation de la première frame en utilisant l'algorithme de Felzenszwalb\n",
    "segments = felzenszwalb(first_frame, scale=100, sigma=0.5, min_size=50)\n",
    "\n",
    "# Calculer l'indice NDVI et NDWI\n",
    "ndvi_image = ndvi(first_frame)\n",
    "ndwi_image = ndwi(first_frame)\n",
    "\n",
    "# Seuils pour la détection de la rivière et de la berge\n",
    "ndvi_threshold = 0.1  # Seuil NDVI pour la berge\n",
    "ndwi_threshold = 0.1  # Seuil NDWI pour la rivière\n",
    "\n",
    "# Créer des masques pour la rivière et la berge en utilisant les indices\n",
    "river_mask = np.zeros_like(first_frame)\n",
    "shore_mask = np.zeros_like(first_frame)\n",
    "\n",
    "river_mask[ndwi_image > ndwi_threshold] = [255, 0, 0]  # Rouge pour la rivière\n",
    "shore_mask[ndvi_image > ndvi_threshold] = [0, 255, 0]  # Vert pour la berge\n",
    "\n",
    "# Appliquer une opération de morphologie pour lisser les zones\n",
    "river_kernel = np.ones((15, 15), np.uint8)  # Noyau pour la rivière\n",
    "shore_kernel = np.ones((15, 15), np.uint8)  # Noyau pour la berge\n",
    "\n",
    "river_mask = cv2.morphologyEx(river_mask, cv2.MORPH_OPEN, river_kernel)\n",
    "shore_mask = cv2.morphologyEx(shore_mask, cv2.MORPH_OPEN, shore_kernel)\n",
    "\n",
    "# Fusionner les masques\n",
    "result = cv2.addWeighted(river_mask, 0.5, shore_mask, 0.5, 0)\n",
    "# Afficher le résultat\n",
    "cv2.imshow('River Image', result)\n",
    "\n",
    "# Attendre jusqu'à ce que l'utilisateur appuie sur une touche\n",
    "cv2.waitKey(0)\n",
    "\n",
    "# Libérer la vidéo et fermer les fenêtres\n",
    "video_capture.release()\n",
    "cv2.destroyAllWindows()"
   ]
  },
  {
   "cell_type": "code",
   "execution_count": null,
   "metadata": {},
   "outputs": [],
   "source": []
  }
 ],
 "metadata": {
  "kernelspec": {
   "display_name": "base",
   "language": "python",
   "name": "python3"
  },
  "language_info": {
   "codemirror_mode": {
    "name": "ipython",
    "version": 3
   },
   "file_extension": ".py",
   "mimetype": "text/x-python",
   "name": "python",
   "nbconvert_exporter": "python",
   "pygments_lexer": "ipython3",
   "version": "3.11.5"
  }
 },
 "nbformat": 4,
 "nbformat_minor": 2
}
